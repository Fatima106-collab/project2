{
 "cells": [
  {
   "cell_type": "code",
   "execution_count": 67,
   "metadata": {},
   "outputs": [],
   "source": [
    "import pandas as pd"
   ]
  },
  {
   "cell_type": "code",
   "execution_count": 68,
   "metadata": {},
   "outputs": [],
   "source": [
    "import numpy as np"
   ]
  },
  {
   "cell_type": "code",
   "execution_count": 69,
   "metadata": {},
   "outputs": [],
   "source": [
    "file_path = r\"c:\\Users\\HP\\Downloads\\Customers.csv\"\n",
    "df = pd.read_csv(file_path, encoding=\"ISO-8859-1\")"
   ]
  },
  {
   "cell_type": "code",
   "execution_count": 70,
   "metadata": {},
   "outputs": [
    {
     "name": "stdout",
     "output_type": "stream",
     "text": [
      "   CustomerID FirstName  LastName       Phone               Country  \\\n",
      "0        2000  abdullah   zakaria  5962910242          Saudi Arabia   \n",
      "1        2001     baraa    abazid  5092304617                 Syria   \n",
      "2        2002     abdul  surprise  5334071782                  Iraq   \n",
      "3        2003      dima   darwish  5415618249  United Arab Emirates   \n",
      "4        2004      rene    khouri  5017329612                  Iraq   \n",
      "\n",
      "          City  Rate MonyTransfere                 Email  \n",
      "0       Jeddah     7     Debt Card   a.zakaria@email.com  \n",
      "1  Ath Thawrah     5        Hawala    b.abazid@email.com  \n",
      "2        Irbil     4     Debt Card  a.surprise@email.com  \n",
      "3        Dubai     2        Hawala   d.darwish@email.com  \n",
      "4     An Najaf     4        Hawala    r.khouri@email.com  \n"
     ]
    }
   ],
   "source": [
    "print(df.head())\n"
   ]
  },
  {
   "cell_type": "code",
   "execution_count": 71,
   "metadata": {},
   "outputs": [
    {
     "data": {
      "text/plain": [
       "<bound method DataFrame.info of      CustomerID FirstName  LastName       Phone               Country  \\\n",
       "0          2000  abdullah   zakaria  5962910242          Saudi Arabia   \n",
       "1          2001     baraa    abazid  5092304617                 Syria   \n",
       "2          2002     abdul  surprise  5334071782                  Iraq   \n",
       "3          2003      dima   darwish  5415618249  United Arab Emirates   \n",
       "4          2004      rene    khouri  5017329612                  Iraq   \n",
       "..          ...       ...       ...         ...                   ...   \n",
       "995        2995   jackson   stanley  5990297098          Saudi Arabia   \n",
       "996        2996     lydia    morgan  5393567413                 Egypt   \n",
       "997        2997      mary   summers  5609245372                 Syria   \n",
       "998        2998      zena    barnes  5850603654                 Syria   \n",
       "999        2999      quyn    suarez  5487050518                 Syria   \n",
       "\n",
       "            City  Rate  MonyTransfere                 Email  \n",
       "0         Jeddah     7      Debt Card   a.zakaria@email.com  \n",
       "1    Ath Thawrah     5         Hawala    b.abazid@email.com  \n",
       "2          Irbil     4      Debt Card  a.surprise@email.com  \n",
       "3          Dubai     2         Hawala   d.darwish@email.com  \n",
       "4       An Najaf     4         Hawala    r.khouri@email.com  \n",
       "..           ...   ...            ...                   ...  \n",
       "995     Al Kharj    10         Hawala   j.stanley@email.com  \n",
       "996        Cairo     2  Western Union    l.morgan@email.com  \n",
       "997       Aleppo     1         Hawala   m.summers@email.com  \n",
       "998  Al Qamishli     1         Hawala    z.barnes@email.com  \n",
       "999  Al Qamishli     6    Master Card    q.suarez@email.com  \n",
       "\n",
       "[1000 rows x 9 columns]>"
      ]
     },
     "execution_count": 71,
     "metadata": {},
     "output_type": "execute_result"
    }
   ],
   "source": [
    "df.info"
   ]
  },
  {
   "cell_type": "code",
   "execution_count": 72,
   "metadata": {},
   "outputs": [
    {
     "data": {
      "text/plain": [
       "<bound method NDFrame.tail of      CustomerID FirstName  LastName       Phone               Country  \\\n",
       "0          2000  abdullah   zakaria  5962910242          Saudi Arabia   \n",
       "1          2001     baraa    abazid  5092304617                 Syria   \n",
       "2          2002     abdul  surprise  5334071782                  Iraq   \n",
       "3          2003      dima   darwish  5415618249  United Arab Emirates   \n",
       "4          2004      rene    khouri  5017329612                  Iraq   \n",
       "..          ...       ...       ...         ...                   ...   \n",
       "995        2995   jackson   stanley  5990297098          Saudi Arabia   \n",
       "996        2996     lydia    morgan  5393567413                 Egypt   \n",
       "997        2997      mary   summers  5609245372                 Syria   \n",
       "998        2998      zena    barnes  5850603654                 Syria   \n",
       "999        2999      quyn    suarez  5487050518                 Syria   \n",
       "\n",
       "            City  Rate  MonyTransfere                 Email  \n",
       "0         Jeddah     7      Debt Card   a.zakaria@email.com  \n",
       "1    Ath Thawrah     5         Hawala    b.abazid@email.com  \n",
       "2          Irbil     4      Debt Card  a.surprise@email.com  \n",
       "3          Dubai     2         Hawala   d.darwish@email.com  \n",
       "4       An Najaf     4         Hawala    r.khouri@email.com  \n",
       "..           ...   ...            ...                   ...  \n",
       "995     Al Kharj    10         Hawala   j.stanley@email.com  \n",
       "996        Cairo     2  Western Union    l.morgan@email.com  \n",
       "997       Aleppo     1         Hawala   m.summers@email.com  \n",
       "998  Al Qamishli     1         Hawala    z.barnes@email.com  \n",
       "999  Al Qamishli     6    Master Card    q.suarez@email.com  \n",
       "\n",
       "[1000 rows x 9 columns]>"
      ]
     },
     "execution_count": 72,
     "metadata": {},
     "output_type": "execute_result"
    }
   ],
   "source": [
    "df.tail"
   ]
  },
  {
   "cell_type": "code",
   "execution_count": 73,
   "metadata": {},
   "outputs": [
    {
     "data": {
      "text/html": [
       "<div>\n",
       "<style scoped>\n",
       "    .dataframe tbody tr th:only-of-type {\n",
       "        vertical-align: middle;\n",
       "    }\n",
       "\n",
       "    .dataframe tbody tr th {\n",
       "        vertical-align: top;\n",
       "    }\n",
       "\n",
       "    .dataframe thead th {\n",
       "        text-align: right;\n",
       "    }\n",
       "</style>\n",
       "<table border=\"1\" class=\"dataframe\">\n",
       "  <thead>\n",
       "    <tr style=\"text-align: right;\">\n",
       "      <th></th>\n",
       "      <th>City</th>\n",
       "    </tr>\n",
       "  </thead>\n",
       "  <tbody>\n",
       "    <tr>\n",
       "      <th>count</th>\n",
       "      <td>1000</td>\n",
       "    </tr>\n",
       "    <tr>\n",
       "      <th>unique</th>\n",
       "      <td>43</td>\n",
       "    </tr>\n",
       "    <tr>\n",
       "      <th>top</th>\n",
       "      <td>Al-Hillah</td>\n",
       "    </tr>\n",
       "    <tr>\n",
       "      <th>freq</th>\n",
       "      <td>48</td>\n",
       "    </tr>\n",
       "  </tbody>\n",
       "</table>\n",
       "</div>"
      ],
      "text/plain": [
       "             City\n",
       "count        1000\n",
       "unique         43\n",
       "top     Al-Hillah\n",
       "freq           48"
      ]
     },
     "execution_count": 73,
     "metadata": {},
     "output_type": "execute_result"
    }
   ],
   "source": [
    "df[['City']].describe()\n"
   ]
  },
  {
   "cell_type": "code",
   "execution_count": 74,
   "metadata": {},
   "outputs": [
    {
     "name": "stdout",
     "output_type": "stream",
     "text": [
      "Index(['CustomerID', 'FirstName', 'LastName', 'Phone', 'Country', 'City',\n",
      "       'Rate', 'MonyTransfere', 'Email'],\n",
      "      dtype='object')\n"
     ]
    }
   ],
   "source": [
    "print(df.columns)\n"
   ]
  },
  {
   "cell_type": "code",
   "execution_count": 75,
   "metadata": {},
   "outputs": [
    {
     "name": "stdout",
     "output_type": "stream",
     "text": [
      "                        sum                                                  \\\n",
      "City                   Abha Abu Dhabi Ad Damman Al Ayn Al Fujayrah Al Hufuf   \n",
      "Country                                                                       \n",
      "Egypt                   NaN       NaN       NaN    NaN         NaN      NaN   \n",
      "Iraq                    NaN       NaN       NaN    NaN         NaN      NaN   \n",
      "Saudi Arabia          127.0       NaN     157.0    NaN         NaN    180.0   \n",
      "Syria                   NaN       NaN       NaN    NaN         NaN      NaN   \n",
      "United Arab Emirates    NaN     151.0       NaN  163.0        97.0      NaN   \n",
      "\n",
      "                                                                   ...   mean  \\\n",
      "City                 Al Jubayl Al Kharj Al Ladhiqiyah Al Mubarraz  ...  Irbil   \n",
      "Country                                                            ...          \n",
      "Egypt                      NaN      NaN           NaN         NaN  ...    NaN   \n",
      "Iraq                       NaN      NaN           NaN         NaN  ...  4.875   \n",
      "Saudi Arabia             228.0     79.0           NaN       188.0  ...    NaN   \n",
      "Syria                      NaN      NaN         146.0         NaN  ...    NaN   \n",
      "United Arab Emirates       NaN      NaN           NaN         NaN  ...    NaN   \n",
      "\n",
      "                                                                               \\\n",
      "City                    Jeddah Mosul Ras al Khaymah  Riyadh Sharjah      Siwa   \n",
      "Country                                                                         \n",
      "Egypt                      NaN   NaN            NaN     NaN     NaN  6.142857   \n",
      "Iraq                       NaN  3.25            NaN     NaN     NaN       NaN   \n",
      "Saudi Arabia          5.590909   NaN            NaN  5.5625     NaN       NaN   \n",
      "Syria                      NaN   NaN            NaN     NaN     NaN       NaN   \n",
      "United Arab Emirates       NaN   NaN            5.0     NaN     7.0       NaN   \n",
      "\n",
      "                                                         \n",
      "City                      Suez Umm al Qaywayn    `Ajman  \n",
      "Country                                                  \n",
      "Egypt                 2.833333            NaN       NaN  \n",
      "Iraq                       NaN            NaN       NaN  \n",
      "Saudi Arabia               NaN            NaN       NaN  \n",
      "Syria                      NaN            NaN       NaN  \n",
      "United Arab Emirates       NaN       5.304348  6.208333  \n",
      "\n",
      "[5 rows x 86 columns]\n"
     ]
    }
   ],
   "source": [
    "\n",
    "pivot = df.pivot_table(\n",
    "    index='Country',\n",
    "    columns='City',\n",
    "    values='Rate',\n",
    "    aggfunc=['sum', 'mean']\n",
    ")\n",
    "\n",
    "print(pivot)"
   ]
  },
  {
   "cell_type": "code",
   "execution_count": 76,
   "metadata": {},
   "outputs": [
    {
     "data": {
      "text/html": [
       "<div>\n",
       "<style scoped>\n",
       "    .dataframe tbody tr th:only-of-type {\n",
       "        vertical-align: middle;\n",
       "    }\n",
       "\n",
       "    .dataframe tbody tr th {\n",
       "        vertical-align: top;\n",
       "    }\n",
       "\n",
       "    .dataframe thead th {\n",
       "        text-align: right;\n",
       "    }\n",
       "</style>\n",
       "<table border=\"1\" class=\"dataframe\">\n",
       "  <thead>\n",
       "    <tr style=\"text-align: right;\">\n",
       "      <th></th>\n",
       "      <th>CustomerID</th>\n",
       "      <th>FirstName</th>\n",
       "      <th>LastName</th>\n",
       "      <th>Phone</th>\n",
       "      <th>Country</th>\n",
       "      <th>City</th>\n",
       "      <th>Rate</th>\n",
       "      <th>MonyTransfere</th>\n",
       "      <th>Email</th>\n",
       "    </tr>\n",
       "  </thead>\n",
       "  <tbody>\n",
       "    <tr>\n",
       "      <th>0</th>\n",
       "      <td>2000</td>\n",
       "      <td>abdullah</td>\n",
       "      <td>zakaria</td>\n",
       "      <td>5962910242</td>\n",
       "      <td>Saudi Arabia</td>\n",
       "      <td>Jeddah</td>\n",
       "      <td>7</td>\n",
       "      <td>Debt Card</td>\n",
       "      <td>a.zakaria@email.com</td>\n",
       "    </tr>\n",
       "    <tr>\n",
       "      <th>1</th>\n",
       "      <td>2001</td>\n",
       "      <td>baraa</td>\n",
       "      <td>abazid</td>\n",
       "      <td>5092304617</td>\n",
       "      <td>Syria</td>\n",
       "      <td>Ath Thawrah</td>\n",
       "      <td>5</td>\n",
       "      <td>Hawala</td>\n",
       "      <td>b.abazid@email.com</td>\n",
       "    </tr>\n",
       "    <tr>\n",
       "      <th>2</th>\n",
       "      <td>2002</td>\n",
       "      <td>abdul</td>\n",
       "      <td>surprise</td>\n",
       "      <td>5334071782</td>\n",
       "      <td>Iraq</td>\n",
       "      <td>Irbil</td>\n",
       "      <td>4</td>\n",
       "      <td>Debt Card</td>\n",
       "      <td>a.surprise@email.com</td>\n",
       "    </tr>\n",
       "    <tr>\n",
       "      <th>3</th>\n",
       "      <td>2003</td>\n",
       "      <td>dima</td>\n",
       "      <td>darwish</td>\n",
       "      <td>5415618249</td>\n",
       "      <td>United Arab Emirates</td>\n",
       "      <td>Dubai</td>\n",
       "      <td>2</td>\n",
       "      <td>Hawala</td>\n",
       "      <td>d.darwish@email.com</td>\n",
       "    </tr>\n",
       "    <tr>\n",
       "      <th>4</th>\n",
       "      <td>2004</td>\n",
       "      <td>rene</td>\n",
       "      <td>khouri</td>\n",
       "      <td>5017329612</td>\n",
       "      <td>Iraq</td>\n",
       "      <td>An Najaf</td>\n",
       "      <td>4</td>\n",
       "      <td>Hawala</td>\n",
       "      <td>r.khouri@email.com</td>\n",
       "    </tr>\n",
       "    <tr>\n",
       "      <th>...</th>\n",
       "      <td>...</td>\n",
       "      <td>...</td>\n",
       "      <td>...</td>\n",
       "      <td>...</td>\n",
       "      <td>...</td>\n",
       "      <td>...</td>\n",
       "      <td>...</td>\n",
       "      <td>...</td>\n",
       "      <td>...</td>\n",
       "    </tr>\n",
       "    <tr>\n",
       "      <th>995</th>\n",
       "      <td>2995</td>\n",
       "      <td>jackson</td>\n",
       "      <td>stanley</td>\n",
       "      <td>5990297098</td>\n",
       "      <td>Saudi Arabia</td>\n",
       "      <td>Al Kharj</td>\n",
       "      <td>10</td>\n",
       "      <td>Hawala</td>\n",
       "      <td>j.stanley@email.com</td>\n",
       "    </tr>\n",
       "    <tr>\n",
       "      <th>996</th>\n",
       "      <td>2996</td>\n",
       "      <td>lydia</td>\n",
       "      <td>morgan</td>\n",
       "      <td>5393567413</td>\n",
       "      <td>Egypt</td>\n",
       "      <td>Cairo</td>\n",
       "      <td>2</td>\n",
       "      <td>Western Union</td>\n",
       "      <td>l.morgan@email.com</td>\n",
       "    </tr>\n",
       "    <tr>\n",
       "      <th>997</th>\n",
       "      <td>2997</td>\n",
       "      <td>mary</td>\n",
       "      <td>summers</td>\n",
       "      <td>5609245372</td>\n",
       "      <td>Syria</td>\n",
       "      <td>Aleppo</td>\n",
       "      <td>1</td>\n",
       "      <td>Hawala</td>\n",
       "      <td>m.summers@email.com</td>\n",
       "    </tr>\n",
       "    <tr>\n",
       "      <th>998</th>\n",
       "      <td>2998</td>\n",
       "      <td>zena</td>\n",
       "      <td>barnes</td>\n",
       "      <td>5850603654</td>\n",
       "      <td>Syria</td>\n",
       "      <td>Al Qamishli</td>\n",
       "      <td>1</td>\n",
       "      <td>Hawala</td>\n",
       "      <td>z.barnes@email.com</td>\n",
       "    </tr>\n",
       "    <tr>\n",
       "      <th>999</th>\n",
       "      <td>2999</td>\n",
       "      <td>quyn</td>\n",
       "      <td>suarez</td>\n",
       "      <td>5487050518</td>\n",
       "      <td>Syria</td>\n",
       "      <td>Al Qamishli</td>\n",
       "      <td>6</td>\n",
       "      <td>Master Card</td>\n",
       "      <td>q.suarez@email.com</td>\n",
       "    </tr>\n",
       "  </tbody>\n",
       "</table>\n",
       "<p>1000 rows × 9 columns</p>\n",
       "</div>"
      ],
      "text/plain": [
       "     CustomerID FirstName  LastName       Phone               Country  \\\n",
       "0          2000  abdullah   zakaria  5962910242          Saudi Arabia   \n",
       "1          2001     baraa    abazid  5092304617                 Syria   \n",
       "2          2002     abdul  surprise  5334071782                  Iraq   \n",
       "3          2003      dima   darwish  5415618249  United Arab Emirates   \n",
       "4          2004      rene    khouri  5017329612                  Iraq   \n",
       "..          ...       ...       ...         ...                   ...   \n",
       "995        2995   jackson   stanley  5990297098          Saudi Arabia   \n",
       "996        2996     lydia    morgan  5393567413                 Egypt   \n",
       "997        2997      mary   summers  5609245372                 Syria   \n",
       "998        2998      zena    barnes  5850603654                 Syria   \n",
       "999        2999      quyn    suarez  5487050518                 Syria   \n",
       "\n",
       "            City  Rate  MonyTransfere                 Email  \n",
       "0         Jeddah     7      Debt Card   a.zakaria@email.com  \n",
       "1    Ath Thawrah     5         Hawala    b.abazid@email.com  \n",
       "2          Irbil     4      Debt Card  a.surprise@email.com  \n",
       "3          Dubai     2         Hawala   d.darwish@email.com  \n",
       "4       An Najaf     4         Hawala    r.khouri@email.com  \n",
       "..           ...   ...            ...                   ...  \n",
       "995     Al Kharj    10         Hawala   j.stanley@email.com  \n",
       "996        Cairo     2  Western Union    l.morgan@email.com  \n",
       "997       Aleppo     1         Hawala   m.summers@email.com  \n",
       "998  Al Qamishli     1         Hawala    z.barnes@email.com  \n",
       "999  Al Qamishli     6    Master Card    q.suarez@email.com  \n",
       "\n",
       "[1000 rows x 9 columns]"
      ]
     },
     "execution_count": 76,
     "metadata": {},
     "output_type": "execute_result"
    }
   ],
   "source": [
    "df.dropna(how='all')"
   ]
  },
  {
   "cell_type": "code",
   "execution_count": 77,
   "metadata": {},
   "outputs": [
    {
     "data": {
      "text/plain": [
       "0      False\n",
       "1      False\n",
       "2      False\n",
       "3      False\n",
       "4      False\n",
       "       ...  \n",
       "995    False\n",
       "996    False\n",
       "997    False\n",
       "998    False\n",
       "999    False\n",
       "Name: City, Length: 1000, dtype: bool"
      ]
     },
     "execution_count": 77,
     "metadata": {},
     "output_type": "execute_result"
    }
   ],
   "source": [
    "df['City']==True"
   ]
  },
  {
   "cell_type": "code",
   "execution_count": 101,
   "metadata": {},
   "outputs": [],
   "source": [
    "df.insert(3, 'Full name', df['FirstName'] + ' ' + df['LastName'])"
   ]
  },
  {
   "cell_type": "code",
   "execution_count": 103,
   "metadata": {},
   "outputs": [
    {
     "name": "stdout",
     "output_type": "stream",
     "text": [
      "Index(['CustomerID', 'FirstName', 'LastName', 'Full name', 'Fullname', 'Phone',\n",
      "       'FullName', 'Country', 'City', 'Rate', 'MonyTransfere', 'Email'],\n",
      "      dtype='object')\n"
     ]
    }
   ],
   "source": [
    "print(df.columns)\n"
   ]
  },
  {
   "cell_type": "code",
   "execution_count": 109,
   "metadata": {},
   "outputs": [
    {
     "data": {
      "text/plain": [
       "City\n",
       "Al-Hillah         48\n",
       "Dubai             45\n",
       "Baghdad           41\n",
       "Al Jubayl         39\n",
       "Dayr az Zawr      38\n",
       "Al Hufuf          35\n",
       "Al Mubarraz       34\n",
       "Al Qamishli       33\n",
       "Ath Thawrah       32\n",
       "Ad Damman         32\n",
       "Riyadh            32\n",
       "Irbil             32\n",
       "Damascus          30\n",
       "Al Ladhiqiyah     30\n",
       "Cairo             29\n",
       "Siwa              28\n",
       "An Nasiriyah      28\n",
       "Al Ayn            28\n",
       "El Mansura        27\n",
       "Al-Qatif          26\n",
       "Abu Dhabi         25\n",
       "`Ajman            24\n",
       "Aleppo            24\n",
       "An Najaf          24\n",
       "Umm al Qaywayn    23\n",
       "Jeddah            22\n",
       "Abha              21\n",
       "Al Wajh           21\n",
       "Al Qunaytirah     19\n",
       "Al Fujayrah       19\n",
       "Hurghada          18\n",
       "Al Kharj          15\n",
       "Ar Raqqah         12\n",
       "Al Qunfudhah      12\n",
       "Al Quwayiyah      11\n",
       "Mosul              8\n",
       "Sharjah            7\n",
       "El Daba            7\n",
       "Suez               6\n",
       "Ras al Khaymah     6\n",
       "Baqubah            3\n",
       "As Suwayda         3\n",
       "Dar'a              3\n",
       "Name: count, dtype: int64"
      ]
     },
     "execution_count": 109,
     "metadata": {},
     "output_type": "execute_result"
    }
   ],
   "source": [
    "df['City'].value_counts()"
   ]
  },
  {
   "cell_type": "code",
   "execution_count": 110,
   "metadata": {},
   "outputs": [
    {
     "data": {
      "text/plain": [
       "Country\n",
       "Egypt                   115\n",
       "Iraq                    136\n",
       "Saudi Arabia            348\n",
       "Syria                   224\n",
       "United Arab Emirates    177\n",
       "dtype: int64"
      ]
     },
     "execution_count": 110,
     "metadata": {},
     "output_type": "execute_result"
    }
   ],
   "source": [
    "df.groupby('Country').size()"
   ]
  },
  {
   "cell_type": "code",
   "execution_count": 115,
   "metadata": {},
   "outputs": [],
   "source": [
    "import matplotlib.pyplot as plt\n"
   ]
  },
  {
   "cell_type": "code",
   "execution_count": 119,
   "metadata": {},
   "outputs": [],
   "source": [
    "df_grouped = df.groupby('City')['Country'].count().reset_index()\n"
   ]
  },
  {
   "cell_type": "code",
   "execution_count": 121,
   "metadata": {},
   "outputs": [
    {
     "data": {
      "image/png": "[encoded data removed]",
      "text/plain": [
       "<Figure size 640x480 with 1 Axes>"
      ]
     },
     "metadata": {},
     "output_type": "display_data"
    }
   ],
   "source": [
    "df_grouped.plot(x='City', y='Country', kind='bar', legend=False)\n",
    "plt.ylabel(\"Count of Countries\")\n",
    "plt.title(\"Countries by FullName\")\n",
    "plt.show()"
   ]
  },
  {
   "cell_type": "code",
   "execution_count": 123,
   "metadata": {},
   "outputs": [],
   "source": [
    "import seaborn as sns\n"
   ]
  },
  {
   "cell_type": "code",
   "execution_count": 124,
   "metadata": {},
   "outputs": [
    {
     "name": "stderr",
     "output_type": "stream",
     "text": [
      "C:\\Users\\HP\\AppData\\Local\\Temp\\ipykernel_12136\\3444308596.py:3: FutureWarning: \n",
      "\n",
      "Passing `palette` without assigning `hue` is deprecated and will be removed in v0.14.0. Assign the `x` variable to `hue` and set `legend=False` for the same effect.\n",
      "\n",
      "  sns.barplot(x=city_counts.index, y=city_counts.values, palette='viridis')\n"
     ]
    },
    {
     "data": {
      "image/png": "[encoded data removed]",
      "text/plain": [
       "<Figure size 1000x600 with 1 Axes>"
      ]
     },
     "metadata": {},
     "output_type": "display_data"
    }
   ],
   "source": [
    "city_counts = df['City'].value_counts().head(10)  # عرض أشهر 10 مدن فقط\n",
    "plt.figure(figsize=(10, 6))\n",
    "sns.barplot(x=city_counts.index, y=city_counts.values, palette='viridis')\n",
    "plt.title('Top 10 Cities by Customer Count')\n",
    "plt.xlabel('City')\n",
    "plt.ylabel('Count')\n",
    "plt.xticks(rotation=45)\n",
    "plt.show()"
   ]
  }
 ],
 "metadata": {
  "kernelspec": {
   "display_name": "base",
   "language": "python",
   "name": "python3"
  },
  "language_info": {
   "codemirror_mode": {
    "name": "ipython",
    "version": 3
   },
   "file_extension": ".py",
   "mimetype": "text/x-python",
   "name": "python",
   "nbconvert_exporter": "python",
   "pygments_lexer": "ipython3",
   "version": "3.12.4"
  }
 },
 "nbformat": 4,
 "nbformat_minor": 2
}
